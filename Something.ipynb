{
 "cells": [
  {
   "cell_type": "code",
   "execution_count": null,
   "id": "2189a90a-151b-46c8-a778-ac84b871ded0",
   "metadata": {},
   "outputs": [],
   "source": [
    "firstName = input(\"Enter your first name: \")\n",
    "lastName = input(\"Enter your last name: \")\n",
    "print(\"Hello,\", firstName, lastName + \"!\")\n",
    "#comment just to test something, you can delete this"
   ]
  }
 ],
 "metadata": {
  "kernelspec": {
   "display_name": "Python 3 (ipykernel)",
   "language": "python",
   "name": "python3"
  },
  "language_info": {
   "codemirror_mode": {
    "name": "ipython",
    "version": 3
   },
   "file_extension": ".py",
   "mimetype": "text/x-python",
   "name": "python",
   "nbconvert_exporter": "python",
   "pygments_lexer": "ipython3",
   "version": "3.12.4"
  }
 },
 "nbformat": 4,
 "nbformat_minor": 5
}
