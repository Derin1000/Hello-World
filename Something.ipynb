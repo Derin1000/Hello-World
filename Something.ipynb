{
 "cells": [
  {
   "cell_type": "code",
   "execution_count": null,
   "id": "edfb6825-8371-49bf-a0d5-8bffd744ef6f",
   "metadata": {},
   "outputs": [],
   "source": [
    "firstName = input(\"Enter your first name: \")\n",
    "lastName = input(\"Enter your last name: \")\n",
    "print(\"Hello,\", firstName, lastName + \"!\")"
   ]
  }
 ],
 "metadata": {
  "kernelspec": {
   "display_name": "Python 3 (ipykernel)",
   "language": "python",
   "name": "python3"
  },
  "language_info": {
   "codemirror_mode": {
    "name": "ipython",
    "version": 3
   },
   "file_extension": ".py",
   "mimetype": "text/x-python",
   "name": "python",
   "nbconvert_exporter": "python",
   "pygments_lexer": "ipython3",
   "version": "3.12.4"
  }
 },
 "nbformat": 4,
 "nbformat_minor": 5
}
