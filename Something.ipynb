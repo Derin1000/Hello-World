{
 "cells": [
  {
   "cell_type": "code",
   "execution_count": null,
   "id": "2189a90a-151b-46c8-a778-ac84b871ded0",
   "metadata": {},
   "outputs": [],
   "source": [
    "firstName = input(\"Enter your first name: \")\n",
    "lastName = input(\"Enter your last name: \")\n",
    "print(\"Hello,\", firstName, lastName + \"!\")\n",
    "#comment just to test something, you can delete this"
   ]
  },
  {
   "cell_type": "code",
   "execution_count": null,
   "id": "a3eabfde-e9c6-4e68-9cc6-2914c9ba604d",
   "metadata": {},
   "outputs": [],
   "source": [
    "# promts the user for their age \n",
    "age = input(\"How old are you: \")\n",
    "\n",
    "print(\"the user is \" + age + \" years old.\")"
   ]
  }
 ],
 "metadata": {
  "kernelspec": {
   "display_name": "Python 3 (ipykernel)",
   "language": "python",
   "name": "python3"
  },
  "language_info": {
   "codemirror_mode": {
    "name": "ipython",
    "version": 3
   },
   "file_extension": ".py",
   "mimetype": "text/x-python",
   "name": "python",
   "nbconvert_exporter": "python",
   "pygments_lexer": "ipython3",
   "version": "3.12.4"
  }
 },
 "nbformat": 4,
 "nbformat_minor": 5
}
