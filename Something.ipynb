{
 "cells": [
  {
   "cell_type": "code",
   "execution_count": null,
   "id": "2189a90a-151b-46c8-a778-ac84b871ded0",
   "metadata": {},
   "outputs": [],
   "source": [
    "firstName = input(\"Enter your first name: \")\n",
    "lastName = input(\"Enter your last name: \")\n",
    "print(\"Hello,\", firstName, lastName + \"!\")\n",
    "#comment just to test something, you can delete this"
   ]
  },
  {
   "cell_type": "code",
   "execution_count": null,
   "id": "ad8230a4-7cc7-4023-a325-bf55f2c5da99",
   "metadata": {},
   "outputs": [],
   "source": [
    "# Prompt the user for their birthday\n",
    "birthday = input(\"Please enter your birthday (MM/DD/YYYY): \")\n",
    "\n",
    "# Print out the user's birthday\n",
    "print(\"Your birthday is:\", birthday)"
   ]
  },
  {
   "cell_type": "code",
   "execution_count": null,
   "id": "8276616d-67c9-4db7-8036-97fd62418d27",
   "metadata": {},
   "outputs": [],
   "source": []
  }
 ],
 "metadata": {
  "kernelspec": {
   "display_name": "Python 3 (ipykernel)",
   "language": "python",
   "name": "python3"
  },
  "language_info": {
   "codemirror_mode": {
    "name": "ipython",
    "version": 3
   },
   "file_extension": ".py",
   "mimetype": "text/x-python",
   "name": "python",
   "nbconvert_exporter": "python",
   "pygments_lexer": "ipython3",
   "version": "3.12.4"
  }
 },
 "nbformat": 4,
 "nbformat_minor": 5
}
